{
 "cells": [
  {
   "cell_type": "code",
   "execution_count": 54,
   "id": "bfb8d0ce-b97a-4fa8-be00-42cf54494276",
   "metadata": {},
   "outputs": [
    {
     "name": "stdin",
     "output_type": "stream",
     "text": [
      "Enter the number of students:  1\n",
      "Enter the student's name:  bob\n",
      "How many grades for bob?  1\n",
      "Enter grade 1 for bob:  90\n"
     ]
    },
    {
     "name": "stdout",
     "output_type": "stream",
     "text": [
      "bob's average score is 90.00 which corresponds to a A grade.\n"
     ]
    },
    {
     "data": {
      "image/png": "[encoded data removed]",
      "text/plain": [
       "<Figure size 640x480 with 1 Axes>"
      ]
     },
     "metadata": {},
     "output_type": "display_data"
    }
   ],
   "source": [
    "#CIS-443-01-4248\n",
    "#Program 2\n",
    "#10/21/24\n",
    "#this program accepts a number of students. It then asks for each student's name, amount of grades, and each grade.\n",
    "#It then returns an average grade for each student along with their name and a bar chart to visualize the grades\n",
    "\n",
    "import matplotlib as plt\n",
    "import seaborn as sns\n",
    "import numpy as np\n",
    "\n",
    "#Gathers the data of the student's names and grades\n",
    "def input_scoring():\n",
    "    students = {}\n",
    "    num_students = int(input(\"Enter the number of students: \"))\n",
    "    \n",
    "    for _ in range(num_students):\n",
    "        name = input(\"Enter the student's name: \")\n",
    "        num_grades = int(input(f\"How many grades for {name}? \"))\n",
    "        grades = []\n",
    "        \n",
    "        for i in range(num_grades):\n",
    "            grade = float(input(f\"Enter grade {i+1} for {name}: \"))\n",
    "            grades.append(grade)\n",
    "        \n",
    "        students[name] = grades\n",
    "    return students\n",
    "\n",
    "#Translates the average percentage grades into letter grades\n",
    "def summarize_grades(students):\n",
    "    letter_grades = []\n",
    "    \n",
    "    for name, grades in students.items():\n",
    "        mean_score = np.mean(grades)\n",
    "        \n",
    "        if mean_score >= 90:\n",
    "            letter = 'A'\n",
    "        elif mean_score >= 80:\n",
    "            letter = 'B'\n",
    "        elif mean_score >= 70:\n",
    "            letter = 'C'\n",
    "        elif mean_score >= 60:\n",
    "            letter = 'D'\n",
    "        else:\n",
    "            letter = 'F'\n",
    "        \n",
    "        letter_grades.append(letter)\n",
    "        print(f\"{name}'s average score is {mean_score:.2f} which corresponds to a {letter} grade.\")\n",
    "\n",
    "    #Gathers a count of every grade \n",
    "    grade_counts = {grade: letter_grades.count(grade) for grade in ['A', 'B', 'C', 'D', 'F']}\n",
    "    sns.color_palette(\"flare\")\n",
    "    #not sure if I was able to get the color palette to work. It might only work with larger data sets showing the length of the palette\n",
    "    #Creates the bar chart with the grade keys and values as the x and y\n",
    "    graph = sns.barplot(x=list(grade_counts.keys()), y=list(grade_counts.values()))\n",
    "    \n",
    "\n",
    "    graph.set_title(\"Letter Grade Totals\")\n",
    "    graph.set(xlabel=\"Letter Grade\", ylabel=\"Frenquency\")\n",
    "\n",
    "students = input_scoring()\n",
    "summarize_grades(students)"
   ]
  },
  {
   "cell_type": "code",
   "execution_count": null,
   "id": "f56896ba-095a-4bed-929f-846090fd9e42",
   "metadata": {},
   "outputs": [],
   "source": []
  }
 ],
 "metadata": {
  "kernelspec": {
   "display_name": "Python 3 (ipykernel)",
   "language": "python",
   "name": "python3"
  },
  "language_info": {
   "codemirror_mode": {
    "name": "ipython",
    "version": 3
   },
   "file_extension": ".py",
   "mimetype": "text/x-python",
   "name": "python",
   "nbconvert_exporter": "python",
   "pygments_lexer": "ipython3",
   "version": "3.12.4"
  }
 },
 "nbformat": 4,
 "nbformat_minor": 5
}
